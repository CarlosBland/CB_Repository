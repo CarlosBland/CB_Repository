{
  "nbformat": 4,
  "nbformat_minor": 0,
  "metadata": {
    "colab": {
      "name": "Final Evidence A10.ipynb",
      "provenance": []
    },
    "kernelspec": {
      "name": "python3",
      "display_name": "Python 3"
    },
    "language_info": {
      "name": "python"
    }
  },
  "cells": [
    {
      "cell_type": "code",
      "execution_count": 43,
      "metadata": {
        "id": "sD_G1HV-fgi8"
      },
      "outputs": [],
      "source": [
        "import pandas as pd\n",
        "import numpy as np \n",
        "import matplotlib as mpl\n",
        "import matplotlib.pyplot as plt\n",
        "import seaborn as sns"
      ]
    },
    {
      "cell_type": "code",
      "source": [
        "import statsmodels.api as sm \n",
        "from sklearn import linear_model"
      ],
      "metadata": {
        "id": "j9lIAdnvqUQ2"
      },
      "execution_count": 44,
      "outputs": []
    },
    {
      "cell_type": "code",
      "source": [
        "df = pd.read_csv('ranking_uni.csv')"
      ],
      "metadata": {
        "id": "uEwcCK_sfz0b"
      },
      "execution_count": 45,
      "outputs": []
    },
    {
      "cell_type": "code",
      "source": [
        "df.drop(['year','link','logo','research_output',],\n",
        "       axis=1, inplace=True)"
      ],
      "metadata": {
        "id": "mk7p-yI3f1Sp"
      },
      "execution_count": 46,
      "outputs": []
    },
    {
      "cell_type": "markdown",
      "source": [
        "# Final Evaluation IN2039.101\n",
        "*Carlos Bland A00827176*"
      ],
      "metadata": {
        "id": "ddnMbi3sMDko"
      }
    },
    {
      "cell_type": "markdown",
      "source": [
        "# Describe Data Base\n",
        "The data base presented shows the ranking of the top 200 universities world wide for th year 2022.\n",
        "\n",
        "Reference obtained from Kaggle: QS Quacquarelli Symonds Limited, World University Rankings 2022"
      ],
      "metadata": {
        "id": "KEcyI8cEf7OM"
      }
    },
    {
      "cell_type": "markdown",
      "source": [
        "## Variables\n",
        "\n",
        "*   university: Name of the university (Qualitative Nominal)\n",
        "*   rank_display: Rank place of the university (Quantitative Discrete)\n",
        "*   score: Rank from 0 to 100 as of quality of university (Quantitative Continuous) \n",
        "*   country: Country where the university is located (Qualitative Nominal)\n",
        "*   international_students: Number of students currently attending that are international (Quantitative Discrete)\n",
        "*   student_faculty_ratio: establishes the number of students there are by every faculty member (Quantitative Discrete)\n",
        "\n",
        "\n"
      ],
      "metadata": {
        "id": "9bBCHNnGgC-B"
      }
    },
    {
      "cell_type": "markdown",
      "source": [
        "## What countries have universities in the top 200 and what are the countries with more universities in the ranking?"
      ],
      "metadata": {
        "id": "TZPrjqsQgAhf"
      }
    },
    {
      "cell_type": "code",
      "source": [
        "pivot1 = pd.pivot_table(df,\n",
        "               index = ['country'],\n",
        "               values = ['university'],\n",
        "               aggfunc = 'count',\n",
        "              )\n",
        "pivot1"
      ],
      "metadata": {
        "colab": {
          "base_uri": "https://localhost:8080/",
          "height": 1000
        },
        "id": "RT1P2xgYgjTf",
        "outputId": "49f131a4-c7ae-4775-c03c-d5c7ec6339f5"
      },
      "execution_count": 47,
      "outputs": [
        {
          "output_type": "execute_result",
          "data": {
            "text/plain": [
              "                      university\n",
              "country                         \n",
              "Argentina                      1\n",
              "Australia                     13\n",
              "Austria                        2\n",
              "Belgium                        3\n",
              "Brazil                         1\n",
              "Canada                         8\n",
              "Chile                          2\n",
              "China (Mainland)               7\n",
              "Denmark                        3\n",
              "Finland                        2\n",
              "France                         5\n",
              "Germany                       11\n",
              "Hong Kong SAR                  5\n",
              "India                          3\n",
              "Ireland                        2\n",
              "Israel                         1\n",
              "Italy                          3\n",
              "Japan                          8\n",
              "Kazakhstan                     1\n",
              "Malaysia                       5\n",
              "Mexico                         2\n",
              "Netherlands                    9\n",
              "New Zealand                    2\n",
              "Norway                         2\n",
              "Russia                         1\n",
              "Saudi Arabia                   2\n",
              "Singapore                      2\n",
              "South Korea                    7\n",
              "Spain                          1\n",
              "Sweden                         6\n",
              "Switzerland                    7\n",
              "Taiwan                         2\n",
              "United Arab Emirates           1\n",
              "United Kingdom                26\n",
              "United States                 45"
            ],
            "text/html": [
              "\n",
              "  <div id=\"df-f7c9ba16-99c0-4c8c-8962-b2aa21f01920\">\n",
              "    <div class=\"colab-df-container\">\n",
              "      <div>\n",
              "<style scoped>\n",
              "    .dataframe tbody tr th:only-of-type {\n",
              "        vertical-align: middle;\n",
              "    }\n",
              "\n",
              "    .dataframe tbody tr th {\n",
              "        vertical-align: top;\n",
              "    }\n",
              "\n",
              "    .dataframe thead th {\n",
              "        text-align: right;\n",
              "    }\n",
              "</style>\n",
              "<table border=\"1\" class=\"dataframe\">\n",
              "  <thead>\n",
              "    <tr style=\"text-align: right;\">\n",
              "      <th></th>\n",
              "      <th>university</th>\n",
              "    </tr>\n",
              "    <tr>\n",
              "      <th>country</th>\n",
              "      <th></th>\n",
              "    </tr>\n",
              "  </thead>\n",
              "  <tbody>\n",
              "    <tr>\n",
              "      <th>Argentina</th>\n",
              "      <td>1</td>\n",
              "    </tr>\n",
              "    <tr>\n",
              "      <th>Australia</th>\n",
              "      <td>13</td>\n",
              "    </tr>\n",
              "    <tr>\n",
              "      <th>Austria</th>\n",
              "      <td>2</td>\n",
              "    </tr>\n",
              "    <tr>\n",
              "      <th>Belgium</th>\n",
              "      <td>3</td>\n",
              "    </tr>\n",
              "    <tr>\n",
              "      <th>Brazil</th>\n",
              "      <td>1</td>\n",
              "    </tr>\n",
              "    <tr>\n",
              "      <th>Canada</th>\n",
              "      <td>8</td>\n",
              "    </tr>\n",
              "    <tr>\n",
              "      <th>Chile</th>\n",
              "      <td>2</td>\n",
              "    </tr>\n",
              "    <tr>\n",
              "      <th>China (Mainland)</th>\n",
              "      <td>7</td>\n",
              "    </tr>\n",
              "    <tr>\n",
              "      <th>Denmark</th>\n",
              "      <td>3</td>\n",
              "    </tr>\n",
              "    <tr>\n",
              "      <th>Finland</th>\n",
              "      <td>2</td>\n",
              "    </tr>\n",
              "    <tr>\n",
              "      <th>France</th>\n",
              "      <td>5</td>\n",
              "    </tr>\n",
              "    <tr>\n",
              "      <th>Germany</th>\n",
              "      <td>11</td>\n",
              "    </tr>\n",
              "    <tr>\n",
              "      <th>Hong Kong SAR</th>\n",
              "      <td>5</td>\n",
              "    </tr>\n",
              "    <tr>\n",
              "      <th>India</th>\n",
              "      <td>3</td>\n",
              "    </tr>\n",
              "    <tr>\n",
              "      <th>Ireland</th>\n",
              "      <td>2</td>\n",
              "    </tr>\n",
              "    <tr>\n",
              "      <th>Israel</th>\n",
              "      <td>1</td>\n",
              "    </tr>\n",
              "    <tr>\n",
              "      <th>Italy</th>\n",
              "      <td>3</td>\n",
              "    </tr>\n",
              "    <tr>\n",
              "      <th>Japan</th>\n",
              "      <td>8</td>\n",
              "    </tr>\n",
              "    <tr>\n",
              "      <th>Kazakhstan</th>\n",
              "      <td>1</td>\n",
              "    </tr>\n",
              "    <tr>\n",
              "      <th>Malaysia</th>\n",
              "      <td>5</td>\n",
              "    </tr>\n",
              "    <tr>\n",
              "      <th>Mexico</th>\n",
              "      <td>2</td>\n",
              "    </tr>\n",
              "    <tr>\n",
              "      <th>Netherlands</th>\n",
              "      <td>9</td>\n",
              "    </tr>\n",
              "    <tr>\n",
              "      <th>New Zealand</th>\n",
              "      <td>2</td>\n",
              "    </tr>\n",
              "    <tr>\n",
              "      <th>Norway</th>\n",
              "      <td>2</td>\n",
              "    </tr>\n",
              "    <tr>\n",
              "      <th>Russia</th>\n",
              "      <td>1</td>\n",
              "    </tr>\n",
              "    <tr>\n",
              "      <th>Saudi Arabia</th>\n",
              "      <td>2</td>\n",
              "    </tr>\n",
              "    <tr>\n",
              "      <th>Singapore</th>\n",
              "      <td>2</td>\n",
              "    </tr>\n",
              "    <tr>\n",
              "      <th>South Korea</th>\n",
              "      <td>7</td>\n",
              "    </tr>\n",
              "    <tr>\n",
              "      <th>Spain</th>\n",
              "      <td>1</td>\n",
              "    </tr>\n",
              "    <tr>\n",
              "      <th>Sweden</th>\n",
              "      <td>6</td>\n",
              "    </tr>\n",
              "    <tr>\n",
              "      <th>Switzerland</th>\n",
              "      <td>7</td>\n",
              "    </tr>\n",
              "    <tr>\n",
              "      <th>Taiwan</th>\n",
              "      <td>2</td>\n",
              "    </tr>\n",
              "    <tr>\n",
              "      <th>United Arab Emirates</th>\n",
              "      <td>1</td>\n",
              "    </tr>\n",
              "    <tr>\n",
              "      <th>United Kingdom</th>\n",
              "      <td>26</td>\n",
              "    </tr>\n",
              "    <tr>\n",
              "      <th>United States</th>\n",
              "      <td>45</td>\n",
              "    </tr>\n",
              "  </tbody>\n",
              "</table>\n",
              "</div>\n",
              "      <button class=\"colab-df-convert\" onclick=\"convertToInteractive('df-f7c9ba16-99c0-4c8c-8962-b2aa21f01920')\"\n",
              "              title=\"Convert this dataframe to an interactive table.\"\n",
              "              style=\"display:none;\">\n",
              "        \n",
              "  <svg xmlns=\"http://www.w3.org/2000/svg\" height=\"24px\"viewBox=\"0 0 24 24\"\n",
              "       width=\"24px\">\n",
              "    <path d=\"M0 0h24v24H0V0z\" fill=\"none\"/>\n",
              "    <path d=\"M18.56 5.44l.94 2.06.94-2.06 2.06-.94-2.06-.94-.94-2.06-.94 2.06-2.06.94zm-11 1L8.5 8.5l.94-2.06 2.06-.94-2.06-.94L8.5 2.5l-.94 2.06-2.06.94zm10 10l.94 2.06.94-2.06 2.06-.94-2.06-.94-.94-2.06-.94 2.06-2.06.94z\"/><path d=\"M17.41 7.96l-1.37-1.37c-.4-.4-.92-.59-1.43-.59-.52 0-1.04.2-1.43.59L10.3 9.45l-7.72 7.72c-.78.78-.78 2.05 0 2.83L4 21.41c.39.39.9.59 1.41.59.51 0 1.02-.2 1.41-.59l7.78-7.78 2.81-2.81c.8-.78.8-2.07 0-2.86zM5.41 20L4 18.59l7.72-7.72 1.47 1.35L5.41 20z\"/>\n",
              "  </svg>\n",
              "      </button>\n",
              "      \n",
              "  <style>\n",
              "    .colab-df-container {\n",
              "      display:flex;\n",
              "      flex-wrap:wrap;\n",
              "      gap: 12px;\n",
              "    }\n",
              "\n",
              "    .colab-df-convert {\n",
              "      background-color: #E8F0FE;\n",
              "      border: none;\n",
              "      border-radius: 50%;\n",
              "      cursor: pointer;\n",
              "      display: none;\n",
              "      fill: #1967D2;\n",
              "      height: 32px;\n",
              "      padding: 0 0 0 0;\n",
              "      width: 32px;\n",
              "    }\n",
              "\n",
              "    .colab-df-convert:hover {\n",
              "      background-color: #E2EBFA;\n",
              "      box-shadow: 0px 1px 2px rgba(60, 64, 67, 0.3), 0px 1px 3px 1px rgba(60, 64, 67, 0.15);\n",
              "      fill: #174EA6;\n",
              "    }\n",
              "\n",
              "    [theme=dark] .colab-df-convert {\n",
              "      background-color: #3B4455;\n",
              "      fill: #D2E3FC;\n",
              "    }\n",
              "\n",
              "    [theme=dark] .colab-df-convert:hover {\n",
              "      background-color: #434B5C;\n",
              "      box-shadow: 0px 1px 3px 1px rgba(0, 0, 0, 0.15);\n",
              "      filter: drop-shadow(0px 1px 2px rgba(0, 0, 0, 0.3));\n",
              "      fill: #FFFFFF;\n",
              "    }\n",
              "  </style>\n",
              "\n",
              "      <script>\n",
              "        const buttonEl =\n",
              "          document.querySelector('#df-f7c9ba16-99c0-4c8c-8962-b2aa21f01920 button.colab-df-convert');\n",
              "        buttonEl.style.display =\n",
              "          google.colab.kernel.accessAllowed ? 'block' : 'none';\n",
              "\n",
              "        async function convertToInteractive(key) {\n",
              "          const element = document.querySelector('#df-f7c9ba16-99c0-4c8c-8962-b2aa21f01920');\n",
              "          const dataTable =\n",
              "            await google.colab.kernel.invokeFunction('convertToInteractive',\n",
              "                                                     [key], {});\n",
              "          if (!dataTable) return;\n",
              "\n",
              "          const docLinkHtml = 'Like what you see? Visit the ' +\n",
              "            '<a target=\"_blank\" href=https://colab.research.google.com/notebooks/data_table.ipynb>data table notebook</a>'\n",
              "            + ' to learn more about interactive tables.';\n",
              "          element.innerHTML = '';\n",
              "          dataTable['output_type'] = 'display_data';\n",
              "          await google.colab.output.renderOutput(dataTable, element);\n",
              "          const docLink = document.createElement('div');\n",
              "          docLink.innerHTML = docLinkHtml;\n",
              "          element.appendChild(docLink);\n",
              "        }\n",
              "      </script>\n",
              "    </div>\n",
              "  </div>\n",
              "  "
            ]
          },
          "metadata": {},
          "execution_count": 47
        }
      ]
    },
    {
      "cell_type": "code",
      "source": [
        "top = pivot1.sort_values(['university'], ascending = False, axis = 0)\n",
        "top5=top.head(5)\n",
        "top5.plot(kind='bar',\n",
        "         figsize=(10,5))\n",
        "\n",
        "plt.title('Top 5 Countries with more ranked universities',fontsize = 17)\n",
        "plt.ylabel('Number of universities', fontsize = 15)\n",
        "plt.xlabel('Country', fontsize = 15)"
      ],
      "metadata": {
        "colab": {
          "base_uri": "https://localhost:8080/",
          "height": 501
        },
        "id": "zqucGvWgglOm",
        "outputId": "9e298ec7-b15c-44a2-e65b-28e11c00ff35"
      },
      "execution_count": 48,
      "outputs": [
        {
          "output_type": "execute_result",
          "data": {
            "text/plain": [
              "Text(0.5, 0, 'Country')"
            ]
          },
          "metadata": {},
          "execution_count": 48
        },
        {
          "output_type": "display_data",
          "data": {
            "text/plain": [
              "<Figure size 720x360 with 1 Axes>"
            ],
            "image/png": "[encoded data removed]"
          },
          "metadata": {}
        }
      ]
    },
    {
      "cell_type": "code",
      "source": [
        "top5"
      ],
      "metadata": {
        "colab": {
          "base_uri": "https://localhost:8080/",
          "height": 237
        },
        "id": "vXW7EbDSgnb6",
        "outputId": "136e2bce-6a05-4bb7-e548-aa267d3e8dd9"
      },
      "execution_count": 49,
      "outputs": [
        {
          "output_type": "execute_result",
          "data": {
            "text/plain": [
              "                university\n",
              "country                   \n",
              "United States           45\n",
              "United Kingdom          26\n",
              "Australia               13\n",
              "Germany                 11\n",
              "Netherlands              9"
            ],
            "text/html": [
              "\n",
              "  <div id=\"df-98bf650f-283a-4e31-be76-0798c1577def\">\n",
              "    <div class=\"colab-df-container\">\n",
              "      <div>\n",
              "<style scoped>\n",
              "    .dataframe tbody tr th:only-of-type {\n",
              "        vertical-align: middle;\n",
              "    }\n",
              "\n",
              "    .dataframe tbody tr th {\n",
              "        vertical-align: top;\n",
              "    }\n",
              "\n",
              "    .dataframe thead th {\n",
              "        text-align: right;\n",
              "    }\n",
              "</style>\n",
              "<table border=\"1\" class=\"dataframe\">\n",
              "  <thead>\n",
              "    <tr style=\"text-align: right;\">\n",
              "      <th></th>\n",
              "      <th>university</th>\n",
              "    </tr>\n",
              "    <tr>\n",
              "      <th>country</th>\n",
              "      <th></th>\n",
              "    </tr>\n",
              "  </thead>\n",
              "  <tbody>\n",
              "    <tr>\n",
              "      <th>United States</th>\n",
              "      <td>45</td>\n",
              "    </tr>\n",
              "    <tr>\n",
              "      <th>United Kingdom</th>\n",
              "      <td>26</td>\n",
              "    </tr>\n",
              "    <tr>\n",
              "      <th>Australia</th>\n",
              "      <td>13</td>\n",
              "    </tr>\n",
              "    <tr>\n",
              "      <th>Germany</th>\n",
              "      <td>11</td>\n",
              "    </tr>\n",
              "    <tr>\n",
              "      <th>Netherlands</th>\n",
              "      <td>9</td>\n",
              "    </tr>\n",
              "  </tbody>\n",
              "</table>\n",
              "</div>\n",
              "      <button class=\"colab-df-convert\" onclick=\"convertToInteractive('df-98bf650f-283a-4e31-be76-0798c1577def')\"\n",
              "              title=\"Convert this dataframe to an interactive table.\"\n",
              "              style=\"display:none;\">\n",
              "        \n",
              "  <svg xmlns=\"http://www.w3.org/2000/svg\" height=\"24px\"viewBox=\"0 0 24 24\"\n",
              "       width=\"24px\">\n",
              "    <path d=\"M0 0h24v24H0V0z\" fill=\"none\"/>\n",
              "    <path d=\"M18.56 5.44l.94 2.06.94-2.06 2.06-.94-2.06-.94-.94-2.06-.94 2.06-2.06.94zm-11 1L8.5 8.5l.94-2.06 2.06-.94-2.06-.94L8.5 2.5l-.94 2.06-2.06.94zm10 10l.94 2.06.94-2.06 2.06-.94-2.06-.94-.94-2.06-.94 2.06-2.06.94z\"/><path d=\"M17.41 7.96l-1.37-1.37c-.4-.4-.92-.59-1.43-.59-.52 0-1.04.2-1.43.59L10.3 9.45l-7.72 7.72c-.78.78-.78 2.05 0 2.83L4 21.41c.39.39.9.59 1.41.59.51 0 1.02-.2 1.41-.59l7.78-7.78 2.81-2.81c.8-.78.8-2.07 0-2.86zM5.41 20L4 18.59l7.72-7.72 1.47 1.35L5.41 20z\"/>\n",
              "  </svg>\n",
              "      </button>\n",
              "      \n",
              "  <style>\n",
              "    .colab-df-container {\n",
              "      display:flex;\n",
              "      flex-wrap:wrap;\n",
              "      gap: 12px;\n",
              "    }\n",
              "\n",
              "    .colab-df-convert {\n",
              "      background-color: #E8F0FE;\n",
              "      border: none;\n",
              "      border-radius: 50%;\n",
              "      cursor: pointer;\n",
              "      display: none;\n",
              "      fill: #1967D2;\n",
              "      height: 32px;\n",
              "      padding: 0 0 0 0;\n",
              "      width: 32px;\n",
              "    }\n",
              "\n",
              "    .colab-df-convert:hover {\n",
              "      background-color: #E2EBFA;\n",
              "      box-shadow: 0px 1px 2px rgba(60, 64, 67, 0.3), 0px 1px 3px 1px rgba(60, 64, 67, 0.15);\n",
              "      fill: #174EA6;\n",
              "    }\n",
              "\n",
              "    [theme=dark] .colab-df-convert {\n",
              "      background-color: #3B4455;\n",
              "      fill: #D2E3FC;\n",
              "    }\n",
              "\n",
              "    [theme=dark] .colab-df-convert:hover {\n",
              "      background-color: #434B5C;\n",
              "      box-shadow: 0px 1px 3px 1px rgba(0, 0, 0, 0.15);\n",
              "      filter: drop-shadow(0px 1px 2px rgba(0, 0, 0, 0.3));\n",
              "      fill: #FFFFFF;\n",
              "    }\n",
              "  </style>\n",
              "\n",
              "      <script>\n",
              "        const buttonEl =\n",
              "          document.querySelector('#df-98bf650f-283a-4e31-be76-0798c1577def button.colab-df-convert');\n",
              "        buttonEl.style.display =\n",
              "          google.colab.kernel.accessAllowed ? 'block' : 'none';\n",
              "\n",
              "        async function convertToInteractive(key) {\n",
              "          const element = document.querySelector('#df-98bf650f-283a-4e31-be76-0798c1577def');\n",
              "          const dataTable =\n",
              "            await google.colab.kernel.invokeFunction('convertToInteractive',\n",
              "                                                     [key], {});\n",
              "          if (!dataTable) return;\n",
              "\n",
              "          const docLinkHtml = 'Like what you see? Visit the ' +\n",
              "            '<a target=\"_blank\" href=https://colab.research.google.com/notebooks/data_table.ipynb>data table notebook</a>'\n",
              "            + ' to learn more about interactive tables.';\n",
              "          element.innerHTML = '';\n",
              "          dataTable['output_type'] = 'display_data';\n",
              "          await google.colab.output.renderOutput(dataTable, element);\n",
              "          const docLink = document.createElement('div');\n",
              "          docLink.innerHTML = docLinkHtml;\n",
              "          element.appendChild(docLink);\n",
              "        }\n",
              "      </script>\n",
              "    </div>\n",
              "  </div>\n",
              "  "
            ]
          },
          "metadata": {},
          "execution_count": 49
        }
      ]
    },
    {
      "cell_type": "markdown",
      "source": [
        "## Conclusion\n",
        "There are 35 countries with at least one university in the ranking.\n",
        "\n",
        "The top 5 countries with more universities:\n",
        "\n",
        "- United States (45)\n",
        "- United Kingdom (26)\n",
        "- Australioa (13)\n",
        "- Germany (11)\n",
        "- Netherlands (9)"
      ],
      "metadata": {
        "id": "kpIpunligqm2"
      }
    },
    {
      "cell_type": "markdown",
      "source": [
        "## What porcentage does each region has of all 200 universities?"
      ],
      "metadata": {
        "id": "MvH7YCofiAFx"
      }
    },
    {
      "cell_type": "code",
      "source": [
        "sizes = [44, 83, 6, 53, 15]\n",
        "labels = [\"Asia\", \"Europe\", \"Latin America\",\"North America\",\"Oceania\"]\n",
        "fig1, ax1 = plt.subplots(figsize=(6, 5))\n",
        "fig1.subplots_adjust(0.3,0,1,1)\n",
        "theme = plt.get_cmap('bwr')\n",
        "ax1.set_prop_cycle(\"color\", [theme(1. * i / len(sizes)) for i in range(len(sizes))])\n",
        "ax1.set_title('Porcentage of Top 200 Ranked Universities per Region', fontsize = 20)\n",
        "_, _ = ax1.pie(sizes, startangle=90)\n",
        "ax1.axis('equal')\n",
        "total = sum(sizes)\n",
        "plt.legend(\n",
        "    loc='upper left',\n",
        "    labels=['%s, %1.1f%%' % (\n",
        "        l, (float(s) / total) * 100) for l, s in zip(labels, sizes)],\n",
        "    prop={'size': 11},\n",
        "    bbox_to_anchor=(0.0, 1),\n",
        "    bbox_transform=fig1.transFigure\n",
        ")\n",
        "plt.show()"
      ],
      "metadata": {
        "colab": {
          "base_uri": "https://localhost:8080/",
          "height": 412
        },
        "id": "bKC5CvpxQKyX",
        "outputId": "b8491046-afe3-4f3d-ac61-31d3d7778761"
      },
      "execution_count": 50,
      "outputs": [
        {
          "output_type": "display_data",
          "data": {
            "text/plain": [
              "<Figure size 432x360 with 1 Axes>"
            ],
            "image/png": "[encoded data removed]"
          },
          "metadata": {}
        }
      ]
    },
    {
      "cell_type": "markdown",
      "source": [
        "## Conclusion\n",
        "The region with the highest porcentage is Europe with 41.3% and the one with the lowest Latin\n",
        "America with 3%"
      ],
      "metadata": {
        "id": "pJPFyz0kiSzb"
      }
    },
    {
      "cell_type": "markdown",
      "source": [
        "# Is there any outliers the Student/Faculty Ratio numbers from every university)"
      ],
      "metadata": {
        "id": "oCARykzc8yw1"
      }
    },
    {
      "cell_type": "code",
      "source": [
        "sns.boxplot(data = df.loc[:, ['student_faculty_ratio']],\n",
        "           )\n",
        "plt.title('Box Plot Student/Faculty ratio')"
      ],
      "metadata": {
        "colab": {
          "base_uri": "https://localhost:8080/",
          "height": 314
        },
        "id": "11GcnkJCukx6",
        "outputId": "a7c758cc-837c-4d59-cc10-8fa63950dff4"
      },
      "execution_count": 51,
      "outputs": [
        {
          "output_type": "execute_result",
          "data": {
            "text/plain": [
              "Text(0.5, 1.0, 'Box Plot Student/Faculty ratio')"
            ]
          },
          "metadata": {},
          "execution_count": 51
        },
        {
          "output_type": "display_data",
          "data": {
            "text/plain": [
              "<Figure size 432x288 with 1 Axes>"
            ],
            "image/png": "[encoded data removed]"
          },
          "metadata": {}
        }
      ]
    },
    {
      "cell_type": "markdown",
      "source": [
        "# Conclusion\n",
        "In the Student Faculty ratio we are able to identify 7 outliers from the 200 universities which would indicate a suggested revision of the dataset in the analized column. "
      ],
      "metadata": {
        "id": "DDNpJFQV9N4B"
      }
    },
    {
      "cell_type": "markdown",
      "source": [
        "# What are the variables with the best correlation to predict the score with the variables on the database?"
      ],
      "metadata": {
        "id": "R9YpNoFHBStg"
      }
    },
    {
      "cell_type": "code",
      "source": [
        "df.corr()"
      ],
      "metadata": {
        "colab": {
          "base_uri": "https://localhost:8080/",
          "height": 270
        },
        "id": "q7ioljOJkFKH",
        "outputId": "93f6ddf3-cd81-4182-ce58-78a38d7a67de"
      },
      "execution_count": 52,
      "outputs": [
        {
          "output_type": "execute_result",
          "data": {
            "text/plain": [
              "                        rank_display     score  student_faculty_ratio  \\\n",
              "rank_display                1.000000 -0.972926               0.401406   \n",
              "score                      -0.972926  1.000000              -0.418900   \n",
              "student_faculty_ratio       0.401406 -0.418900               1.000000   \n",
              "international_students     -0.325993  0.304919               0.203993   \n",
              "faculty_count              -0.334970  0.317706              -0.252086   \n",
              "\n",
              "                        international_students  faculty_count  \n",
              "rank_display                         -0.325993      -0.334970  \n",
              "score                                 0.304919       0.317706  \n",
              "student_faculty_ratio                 0.203993      -0.252086  \n",
              "international_students                1.000000       0.403071  \n",
              "faculty_count                         0.403071       1.000000  "
            ],
            "text/html": [
              "\n",
              "  <div id=\"df-fb1060d0-3a04-4539-a3d8-a2cd77405a64\">\n",
              "    <div class=\"colab-df-container\">\n",
              "      <div>\n",
              "<style scoped>\n",
              "    .dataframe tbody tr th:only-of-type {\n",
              "        vertical-align: middle;\n",
              "    }\n",
              "\n",
              "    .dataframe tbody tr th {\n",
              "        vertical-align: top;\n",
              "    }\n",
              "\n",
              "    .dataframe thead th {\n",
              "        text-align: right;\n",
              "    }\n",
              "</style>\n",
              "<table border=\"1\" class=\"dataframe\">\n",
              "  <thead>\n",
              "    <tr style=\"text-align: right;\">\n",
              "      <th></th>\n",
              "      <th>rank_display</th>\n",
              "      <th>score</th>\n",
              "      <th>student_faculty_ratio</th>\n",
              "      <th>international_students</th>\n",
              "      <th>faculty_count</th>\n",
              "    </tr>\n",
              "  </thead>\n",
              "  <tbody>\n",
              "    <tr>\n",
              "      <th>rank_display</th>\n",
              "      <td>1.000000</td>\n",
              "      <td>-0.972926</td>\n",
              "      <td>0.401406</td>\n",
              "      <td>-0.325993</td>\n",
              "      <td>-0.334970</td>\n",
              "    </tr>\n",
              "    <tr>\n",
              "      <th>score</th>\n",
              "      <td>-0.972926</td>\n",
              "      <td>1.000000</td>\n",
              "      <td>-0.418900</td>\n",
              "      <td>0.304919</td>\n",
              "      <td>0.317706</td>\n",
              "    </tr>\n",
              "    <tr>\n",
              "      <th>student_faculty_ratio</th>\n",
              "      <td>0.401406</td>\n",
              "      <td>-0.418900</td>\n",
              "      <td>1.000000</td>\n",
              "      <td>0.203993</td>\n",
              "      <td>-0.252086</td>\n",
              "    </tr>\n",
              "    <tr>\n",
              "      <th>international_students</th>\n",
              "      <td>-0.325993</td>\n",
              "      <td>0.304919</td>\n",
              "      <td>0.203993</td>\n",
              "      <td>1.000000</td>\n",
              "      <td>0.403071</td>\n",
              "    </tr>\n",
              "    <tr>\n",
              "      <th>faculty_count</th>\n",
              "      <td>-0.334970</td>\n",
              "      <td>0.317706</td>\n",
              "      <td>-0.252086</td>\n",
              "      <td>0.403071</td>\n",
              "      <td>1.000000</td>\n",
              "    </tr>\n",
              "  </tbody>\n",
              "</table>\n",
              "</div>\n",
              "      <button class=\"colab-df-convert\" onclick=\"convertToInteractive('df-fb1060d0-3a04-4539-a3d8-a2cd77405a64')\"\n",
              "              title=\"Convert this dataframe to an interactive table.\"\n",
              "              style=\"display:none;\">\n",
              "        \n",
              "  <svg xmlns=\"http://www.w3.org/2000/svg\" height=\"24px\"viewBox=\"0 0 24 24\"\n",
              "       width=\"24px\">\n",
              "    <path d=\"M0 0h24v24H0V0z\" fill=\"none\"/>\n",
              "    <path d=\"M18.56 5.44l.94 2.06.94-2.06 2.06-.94-2.06-.94-.94-2.06-.94 2.06-2.06.94zm-11 1L8.5 8.5l.94-2.06 2.06-.94-2.06-.94L8.5 2.5l-.94 2.06-2.06.94zm10 10l.94 2.06.94-2.06 2.06-.94-2.06-.94-.94-2.06-.94 2.06-2.06.94z\"/><path d=\"M17.41 7.96l-1.37-1.37c-.4-.4-.92-.59-1.43-.59-.52 0-1.04.2-1.43.59L10.3 9.45l-7.72 7.72c-.78.78-.78 2.05 0 2.83L4 21.41c.39.39.9.59 1.41.59.51 0 1.02-.2 1.41-.59l7.78-7.78 2.81-2.81c.8-.78.8-2.07 0-2.86zM5.41 20L4 18.59l7.72-7.72 1.47 1.35L5.41 20z\"/>\n",
              "  </svg>\n",
              "      </button>\n",
              "      \n",
              "  <style>\n",
              "    .colab-df-container {\n",
              "      display:flex;\n",
              "      flex-wrap:wrap;\n",
              "      gap: 12px;\n",
              "    }\n",
              "\n",
              "    .colab-df-convert {\n",
              "      background-color: #E8F0FE;\n",
              "      border: none;\n",
              "      border-radius: 50%;\n",
              "      cursor: pointer;\n",
              "      display: none;\n",
              "      fill: #1967D2;\n",
              "      height: 32px;\n",
              "      padding: 0 0 0 0;\n",
              "      width: 32px;\n",
              "    }\n",
              "\n",
              "    .colab-df-convert:hover {\n",
              "      background-color: #E2EBFA;\n",
              "      box-shadow: 0px 1px 2px rgba(60, 64, 67, 0.3), 0px 1px 3px 1px rgba(60, 64, 67, 0.15);\n",
              "      fill: #174EA6;\n",
              "    }\n",
              "\n",
              "    [theme=dark] .colab-df-convert {\n",
              "      background-color: #3B4455;\n",
              "      fill: #D2E3FC;\n",
              "    }\n",
              "\n",
              "    [theme=dark] .colab-df-convert:hover {\n",
              "      background-color: #434B5C;\n",
              "      box-shadow: 0px 1px 3px 1px rgba(0, 0, 0, 0.15);\n",
              "      filter: drop-shadow(0px 1px 2px rgba(0, 0, 0, 0.3));\n",
              "      fill: #FFFFFF;\n",
              "    }\n",
              "  </style>\n",
              "\n",
              "      <script>\n",
              "        const buttonEl =\n",
              "          document.querySelector('#df-fb1060d0-3a04-4539-a3d8-a2cd77405a64 button.colab-df-convert');\n",
              "        buttonEl.style.display =\n",
              "          google.colab.kernel.accessAllowed ? 'block' : 'none';\n",
              "\n",
              "        async function convertToInteractive(key) {\n",
              "          const element = document.querySelector('#df-fb1060d0-3a04-4539-a3d8-a2cd77405a64');\n",
              "          const dataTable =\n",
              "            await google.colab.kernel.invokeFunction('convertToInteractive',\n",
              "                                                     [key], {});\n",
              "          if (!dataTable) return;\n",
              "\n",
              "          const docLinkHtml = 'Like what you see? Visit the ' +\n",
              "            '<a target=\"_blank\" href=https://colab.research.google.com/notebooks/data_table.ipynb>data table notebook</a>'\n",
              "            + ' to learn more about interactive tables.';\n",
              "          element.innerHTML = '';\n",
              "          dataTable['output_type'] = 'display_data';\n",
              "          await google.colab.output.renderOutput(dataTable, element);\n",
              "          const docLink = document.createElement('div');\n",
              "          docLink.innerHTML = docLinkHtml;\n",
              "          element.appendChild(docLink);\n",
              "        }\n",
              "      </script>\n",
              "    </div>\n",
              "  </div>\n",
              "  "
            ]
          },
          "metadata": {},
          "execution_count": 52
        }
      ]
    },
    {
      "cell_type": "code",
      "source": [
        "sns.lmplot(y= 'score',\n",
        "           x= 'rank_display',\n",
        "           data = df,)\n",
        "plt.title('Scatterplot of University Score with its Ranking')\n",
        "plt.show()"
      ],
      "metadata": {
        "colab": {
          "base_uri": "https://localhost:8080/",
          "height": 372
        },
        "id": "kK32HtA1vZyw",
        "outputId": "bb24bb81-26e1-45e6-9730-b2058be81a1f"
      },
      "execution_count": 53,
      "outputs": [
        {
          "output_type": "display_data",
          "data": {
            "text/plain": [
              "<Figure size 360x360 with 1 Axes>"
            ],
            "image/png": "[encoded data removed]"
          },
          "metadata": {}
        }
      ]
    },
    {
      "cell_type": "markdown",
      "source": [
        "# Conclusion\n",
        "\n",
        "The ranking of the university as it wa especulated gave a accurate correlation with the score given to the university, the second best correlation is with the student_faculty_ratio."
      ],
      "metadata": {
        "id": "JeW1iiFeCC4S"
      }
    },
    {
      "cell_type": "markdown",
      "source": [
        "# What is the best model to predict the score of the university that you can obtain from all the variables given? (except ranking)"
      ],
      "metadata": {
        "id": "eDNeCHRqDP1k"
      }
    },
    {
      "cell_type": "code",
      "source": [
        "modelA = sm.OLS.from_formula('score ~ student_faculty_ratio', data = df)#first test with student/faculty ratio\n",
        "resultA = modelA.fit()\n",
        "resultA.summary()"
      ],
      "metadata": {
        "colab": {
          "base_uri": "https://localhost:8080/",
          "height": 448
        },
        "id": "BWUFSMjCpyLY",
        "outputId": "63884868-40e6-4f0f-e7d5-560fb13ba2e5"
      },
      "execution_count": 54,
      "outputs": [
        {
          "output_type": "execute_result",
          "data": {
            "text/plain": [
              "<class 'statsmodels.iolib.summary.Summary'>\n",
              "\"\"\"\n",
              "                            OLS Regression Results                            \n",
              "==============================================================================\n",
              "Dep. Variable:                  score   R-squared:                       0.175\n",
              "Model:                            OLS   Adj. R-squared:                  0.171\n",
              "Method:                 Least Squares   F-statistic:                     42.35\n",
              "Date:                Fri, 18 Mar 2022   Prob (F-statistic):           6.06e-10\n",
              "Time:                        14:08:51   Log-Likelihood:                -815.70\n",
              "No. Observations:                 201   AIC:                             1635.\n",
              "Df Residuals:                     199   BIC:                             1642.\n",
              "Df Model:                           1                                         \n",
              "Covariance Type:            nonrobust                                         \n",
              "=========================================================================================\n",
              "                            coef    std err          t      P>|t|      [0.025      0.975]\n",
              "-----------------------------------------------------------------------------------------\n",
              "Intercept                78.1420      2.405     32.487      0.000      73.399      82.885\n",
              "student_faculty_ratio    -1.5441      0.237     -6.508      0.000      -2.012      -1.076\n",
              "==============================================================================\n",
              "Omnibus:                       30.713   Durbin-Watson:                   0.303\n",
              "Prob(Omnibus):                  0.000   Jarque-Bera (JB):               11.224\n",
              "Skew:                           0.333   Prob(JB):                      0.00365\n",
              "Kurtosis:                       2.053   Cond. No.                         24.8\n",
              "==============================================================================\n",
              "\n",
              "Warnings:\n",
              "[1] Standard Errors assume that the covariance matrix of the errors is correctly specified.\n",
              "\"\"\""
            ],
            "text/html": [
              "<table class=\"simpletable\">\n",
              "<caption>OLS Regression Results</caption>\n",
              "<tr>\n",
              "  <th>Dep. Variable:</th>          <td>score</td>      <th>  R-squared:         </th> <td>   0.175</td>\n",
              "</tr>\n",
              "<tr>\n",
              "  <th>Model:</th>                   <td>OLS</td>       <th>  Adj. R-squared:    </th> <td>   0.171</td>\n",
              "</tr>\n",
              "<tr>\n",
              "  <th>Method:</th>             <td>Least Squares</td>  <th>  F-statistic:       </th> <td>   42.35</td>\n",
              "</tr>\n",
              "<tr>\n",
              "  <th>Date:</th>             <td>Fri, 18 Mar 2022</td> <th>  Prob (F-statistic):</th> <td>6.06e-10</td>\n",
              "</tr>\n",
              "<tr>\n",
              "  <th>Time:</th>                 <td>14:08:51</td>     <th>  Log-Likelihood:    </th> <td> -815.70</td>\n",
              "</tr>\n",
              "<tr>\n",
              "  <th>No. Observations:</th>      <td>   201</td>      <th>  AIC:               </th> <td>   1635.</td>\n",
              "</tr>\n",
              "<tr>\n",
              "  <th>Df Residuals:</th>          <td>   199</td>      <th>  BIC:               </th> <td>   1642.</td>\n",
              "</tr>\n",
              "<tr>\n",
              "  <th>Df Model:</th>              <td>     1</td>      <th>                     </th>     <td> </td>   \n",
              "</tr>\n",
              "<tr>\n",
              "  <th>Covariance Type:</th>      <td>nonrobust</td>    <th>                     </th>     <td> </td>   \n",
              "</tr>\n",
              "</table>\n",
              "<table class=\"simpletable\">\n",
              "<tr>\n",
              "            <td></td>               <th>coef</th>     <th>std err</th>      <th>t</th>      <th>P>|t|</th>  <th>[0.025</th>    <th>0.975]</th>  \n",
              "</tr>\n",
              "<tr>\n",
              "  <th>Intercept</th>             <td>   78.1420</td> <td>    2.405</td> <td>   32.487</td> <td> 0.000</td> <td>   73.399</td> <td>   82.885</td>\n",
              "</tr>\n",
              "<tr>\n",
              "  <th>student_faculty_ratio</th> <td>   -1.5441</td> <td>    0.237</td> <td>   -6.508</td> <td> 0.000</td> <td>   -2.012</td> <td>   -1.076</td>\n",
              "</tr>\n",
              "</table>\n",
              "<table class=\"simpletable\">\n",
              "<tr>\n",
              "  <th>Omnibus:</th>       <td>30.713</td> <th>  Durbin-Watson:     </th> <td>   0.303</td>\n",
              "</tr>\n",
              "<tr>\n",
              "  <th>Prob(Omnibus):</th> <td> 0.000</td> <th>  Jarque-Bera (JB):  </th> <td>  11.224</td>\n",
              "</tr>\n",
              "<tr>\n",
              "  <th>Skew:</th>          <td> 0.333</td> <th>  Prob(JB):          </th> <td> 0.00365</td>\n",
              "</tr>\n",
              "<tr>\n",
              "  <th>Kurtosis:</th>      <td> 2.053</td> <th>  Cond. No.          </th> <td>    24.8</td>\n",
              "</tr>\n",
              "</table><br/><br/>Warnings:<br/>[1] Standard Errors assume that the covariance matrix of the errors is correctly specified."
            ]
          },
          "metadata": {},
          "execution_count": 54
        }
      ]
    },
    {
      "cell_type": "code",
      "source": [
        "plt.figure(figsize= (10,8)) #tamaño de la tabla \n",
        "sns.set(font_scale = 1.50) #tamaño de las letras\n",
        "ax = sns.regplot(x = 'student_faculty_ratio',\n",
        "                 y = 'score',\n",
        "                 data = df,\n",
        "                 color = 'green', #color de la tabla \n",
        "                 marker = '+', #forma del marcador \n",
        "                 scatter_kws = {'s':200} #tamaño del marcador\n",
        ")\n",
        "ax.set(xlabel = 'student_faculty_ratio',\n",
        "       ylabel = 'score') #poner marca de que va en cada axia\n",
        "\n",
        "ax.text(6,8, 'score = bo + b1*student_faculty_ratio',\n",
        "        horizontalalignment= 'left', size = 'medium', color = 'black',\n",
        "        weight = 'semibold')\n",
        "ax.set_title('Regresion plot of score vs student_faculty_ratio') #titulo de la grafica \n",
        "plt.show\n",
        "\n",
        "plt.show\n",
        "#Tabla Regresion visualizar los datos ajustados comparando con los observados "
      ],
      "metadata": {
        "colab": {
          "base_uri": "https://localhost:8080/",
          "height": 623
        },
        "id": "gAyqr8ZjiNAR",
        "outputId": "948bb5f0-3e9e-40a1-a4a4-582163ff8b8a"
      },
      "execution_count": 55,
      "outputs": [
        {
          "output_type": "execute_result",
          "data": {
            "text/plain": [
              "<function matplotlib.pyplot.show>"
            ]
          },
          "metadata": {},
          "execution_count": 55
        },
        {
          "output_type": "display_data",
          "data": {
            "text/plain": [
              "<Figure size 720x576 with 1 Axes>"
            ],
            "image/png": "[encoded data removed]"
          },
          "metadata": {}
        }
      ]
    },
    {
      "cell_type": "markdown",
      "source": [
        "We observe residuals too big so we have to include more prediction values."
      ],
      "metadata": {
        "id": "mIddwWoMLBhy"
      }
    },
    {
      "cell_type": "code",
      "source": [
        "modelB = sm.OLS.from_formula('score ~ student_faculty_ratio+international_students', data = df)\n",
        "resultB = modelB.fit()\n",
        "resultB.summary()\n",
        "#New model with extra prediction variable "
      ],
      "metadata": {
        "colab": {
          "base_uri": "https://localhost:8080/",
          "height": 503
        },
        "id": "i0OYrFHx7gJw",
        "outputId": "e5c6d212-10d0-48b3-fe49-94c5aeab8d97"
      },
      "execution_count": 56,
      "outputs": [
        {
          "output_type": "execute_result",
          "data": {
            "text/plain": [
              "<class 'statsmodels.iolib.summary.Summary'>\n",
              "\"\"\"\n",
              "                            OLS Regression Results                            \n",
              "==============================================================================\n",
              "Dep. Variable:                  score   R-squared:                       0.334\n",
              "Model:                            OLS   Adj. R-squared:                  0.328\n",
              "Method:                 Least Squares   F-statistic:                     49.76\n",
              "Date:                Fri, 18 Mar 2022   Prob (F-statistic):           3.11e-18\n",
              "Time:                        14:08:52   Log-Likelihood:                -794.17\n",
              "No. Observations:                 201   AIC:                             1594.\n",
              "Df Residuals:                     198   BIC:                             1604.\n",
              "Df Model:                           2                                         \n",
              "Covariance Type:            nonrobust                                         \n",
              "==========================================================================================\n",
              "                             coef    std err          t      P>|t|      [0.025      0.975]\n",
              "------------------------------------------------------------------------------------------\n",
              "Intercept                 73.0736      2.288     31.933      0.000      68.561      77.586\n",
              "student_faculty_ratio     -1.8504      0.218     -8.477      0.000      -2.281      -1.420\n",
              "international_students     0.0012      0.000      6.878      0.000       0.001       0.002\n",
              "==============================================================================\n",
              "Omnibus:                       13.372   Durbin-Watson:                   0.703\n",
              "Prob(Omnibus):                  0.001   Jarque-Bera (JB):                9.736\n",
              "Skew:                           0.424   Prob(JB):                      0.00769\n",
              "Kurtosis:                       2.333   Cond. No.                     2.09e+04\n",
              "==============================================================================\n",
              "\n",
              "Warnings:\n",
              "[1] Standard Errors assume that the covariance matrix of the errors is correctly specified.\n",
              "[2] The condition number is large, 2.09e+04. This might indicate that there are\n",
              "strong multicollinearity or other numerical problems.\n",
              "\"\"\""
            ],
            "text/html": [
              "<table class=\"simpletable\">\n",
              "<caption>OLS Regression Results</caption>\n",
              "<tr>\n",
              "  <th>Dep. Variable:</th>          <td>score</td>      <th>  R-squared:         </th> <td>   0.334</td>\n",
              "</tr>\n",
              "<tr>\n",
              "  <th>Model:</th>                   <td>OLS</td>       <th>  Adj. R-squared:    </th> <td>   0.328</td>\n",
              "</tr>\n",
              "<tr>\n",
              "  <th>Method:</th>             <td>Least Squares</td>  <th>  F-statistic:       </th> <td>   49.76</td>\n",
              "</tr>\n",
              "<tr>\n",
              "  <th>Date:</th>             <td>Fri, 18 Mar 2022</td> <th>  Prob (F-statistic):</th> <td>3.11e-18</td>\n",
              "</tr>\n",
              "<tr>\n",
              "  <th>Time:</th>                 <td>14:08:52</td>     <th>  Log-Likelihood:    </th> <td> -794.17</td>\n",
              "</tr>\n",
              "<tr>\n",
              "  <th>No. Observations:</th>      <td>   201</td>      <th>  AIC:               </th> <td>   1594.</td>\n",
              "</tr>\n",
              "<tr>\n",
              "  <th>Df Residuals:</th>          <td>   198</td>      <th>  BIC:               </th> <td>   1604.</td>\n",
              "</tr>\n",
              "<tr>\n",
              "  <th>Df Model:</th>              <td>     2</td>      <th>                     </th>     <td> </td>   \n",
              "</tr>\n",
              "<tr>\n",
              "  <th>Covariance Type:</th>      <td>nonrobust</td>    <th>                     </th>     <td> </td>   \n",
              "</tr>\n",
              "</table>\n",
              "<table class=\"simpletable\">\n",
              "<tr>\n",
              "             <td></td>               <th>coef</th>     <th>std err</th>      <th>t</th>      <th>P>|t|</th>  <th>[0.025</th>    <th>0.975]</th>  \n",
              "</tr>\n",
              "<tr>\n",
              "  <th>Intercept</th>              <td>   73.0736</td> <td>    2.288</td> <td>   31.933</td> <td> 0.000</td> <td>   68.561</td> <td>   77.586</td>\n",
              "</tr>\n",
              "<tr>\n",
              "  <th>student_faculty_ratio</th>  <td>   -1.8504</td> <td>    0.218</td> <td>   -8.477</td> <td> 0.000</td> <td>   -2.281</td> <td>   -1.420</td>\n",
              "</tr>\n",
              "<tr>\n",
              "  <th>international_students</th> <td>    0.0012</td> <td>    0.000</td> <td>    6.878</td> <td> 0.000</td> <td>    0.001</td> <td>    0.002</td>\n",
              "</tr>\n",
              "</table>\n",
              "<table class=\"simpletable\">\n",
              "<tr>\n",
              "  <th>Omnibus:</th>       <td>13.372</td> <th>  Durbin-Watson:     </th> <td>   0.703</td>\n",
              "</tr>\n",
              "<tr>\n",
              "  <th>Prob(Omnibus):</th> <td> 0.001</td> <th>  Jarque-Bera (JB):  </th> <td>   9.736</td>\n",
              "</tr>\n",
              "<tr>\n",
              "  <th>Skew:</th>          <td> 0.424</td> <th>  Prob(JB):          </th> <td> 0.00769</td>\n",
              "</tr>\n",
              "<tr>\n",
              "  <th>Kurtosis:</th>      <td> 2.333</td> <th>  Cond. No.          </th> <td>2.09e+04</td>\n",
              "</tr>\n",
              "</table><br/><br/>Warnings:<br/>[1] Standard Errors assume that the covariance matrix of the errors is correctly specified.<br/>[2] The condition number is large, 2.09e+04. This might indicate that there are<br/>strong multicollinearity or other numerical problems."
            ]
          },
          "metadata": {},
          "execution_count": 56
        }
      ]
    },
    {
      "cell_type": "markdown",
      "source": [
        "# Conclusion\n",
        "After different interation to obtain the best prediction model we can conclude that the variables in the data base are not optimal and can't create an acceptable model. \n",
        "\n",
        "The best model gave R-squared value of 0.334 and was created with the only two variables that made a differance in the determinant that are the student/faculty ratio and the number of international students:\n",
        "\n",
        "score=b0+b1student_faculty_ratio+b2international_students\n",
        "\n",
        "score=73.0736-1.8504*student_faculty_ratio+0.0012international_students\n",
        "\n"
      ],
      "metadata": {
        "id": "C38UubNzHbEI"
      }
    },
    {
      "cell_type": "markdown",
      "source": [
        "# Using the residuals of the previous model, from the numeber of international students and student/faculty ratio what would be the score of the best and worst university in the ranking?"
      ],
      "metadata": {
        "id": "dVV1rtVnMBWZ"
      }
    },
    {
      "cell_type": "code",
      "source": [
        "RESI_B = resultB.resid #para ver todos los resiudos de volada \n",
        "RESI_B"
      ],
      "metadata": {
        "colab": {
          "base_uri": "https://localhost:8080/"
        },
        "id": "rfHhkhm734ac",
        "outputId": "e78e40c5-2040-41ed-b8b7-6cab3fa19835"
      },
      "execution_count": 57,
      "outputs": [
        {
          "output_type": "execute_result",
          "data": {
            "text/plain": [
              "0      29.704956\n",
              "1      21.514163\n",
              "2      26.369839\n",
              "3      23.205403\n",
              "4      26.894263\n",
              "         ...    \n",
              "196    -6.810951\n",
              "197   -10.284126\n",
              "198   -17.078141\n",
              "199   -16.951765\n",
              "200   -13.752893\n",
              "Length: 201, dtype: float64"
            ]
          },
          "metadata": {},
          "execution_count": 57
        }
      ]
    },
    {
      "cell_type": "code",
      "source": [
        "predicted_values = resultB.fittedvalues.to_frame()\n",
        "plt.figure(figsize= (10,8)) #tamaño de la tabla \n",
        "sns.set(font_scale = 1.50) #tamaño de las letras\n",
        "ax = sns.regplot(x = predicted_values,\n",
        "                 y = RESI_B,\n",
        "                 data = df,\n",
        "                 color = 'green', #color de la tabla \n",
        "                 marker = '+', #forma del marcador \n",
        "                 scatter_kws = {'s':200} #tamaño del marcador\n",
        ")\n",
        "ax.set(xlabel = 'Predicted Values',\n",
        "       ylabel = 'Residuals')\n",
        "ax.set_title('Predicted values vs Residuals')\n",
        "plt.show"
      ],
      "metadata": {
        "colab": {
          "base_uri": "https://localhost:8080/",
          "height": 553
        },
        "id": "ZlGT6oUB3V7U",
        "outputId": "431346e9-5fcb-4b5e-9b11-986af1b1f510"
      },
      "execution_count": 58,
      "outputs": [
        {
          "output_type": "execute_result",
          "data": {
            "text/plain": [
              "<function matplotlib.pyplot.show>"
            ]
          },
          "metadata": {},
          "execution_count": 58
        },
        {
          "output_type": "display_data",
          "data": {
            "text/plain": [
              "<Figure size 720x576 with 1 Axes>"
            ],
            "image/png": "[encoded data removed]"
          },
          "metadata": {}
        }
      ]
    },
    {
      "cell_type": "code",
      "source": [
        "predicted_values = predicted_values.rename(columns = {0:'Score'})\n",
        "predicted_values = predicted_values.reset_index()\n",
        "predicted_values"
      ],
      "metadata": {
        "colab": {
          "base_uri": "https://localhost:8080/",
          "height": 423
        },
        "id": "01O4y4mxPM-I",
        "outputId": "e8553505-525c-47b0-caa6-cb2bb3247696"
      },
      "execution_count": 59,
      "outputs": [
        {
          "output_type": "execute_result",
          "data": {
            "text/plain": [
              "     index      Score\n",
              "0        0  70.295044\n",
              "1        1  77.985837\n",
              "2        2  72.330161\n",
              "3        3  75.494597\n",
              "4        4  71.105737\n",
              "..     ...        ...\n",
              "196    196  51.610951\n",
              "197    197  54.884126\n",
              "198    198  61.578141\n",
              "199    199  61.151765\n",
              "200    200  57.852893\n",
              "\n",
              "[201 rows x 2 columns]"
            ],
            "text/html": [
              "\n",
              "  <div id=\"df-460b055c-7fa5-4676-9751-7e9f18fa08d7\">\n",
              "    <div class=\"colab-df-container\">\n",
              "      <div>\n",
              "<style scoped>\n",
              "    .dataframe tbody tr th:only-of-type {\n",
              "        vertical-align: middle;\n",
              "    }\n",
              "\n",
              "    .dataframe tbody tr th {\n",
              "        vertical-align: top;\n",
              "    }\n",
              "\n",
              "    .dataframe thead th {\n",
              "        text-align: right;\n",
              "    }\n",
              "</style>\n",
              "<table border=\"1\" class=\"dataframe\">\n",
              "  <thead>\n",
              "    <tr style=\"text-align: right;\">\n",
              "      <th></th>\n",
              "      <th>index</th>\n",
              "      <th>Score</th>\n",
              "    </tr>\n",
              "  </thead>\n",
              "  <tbody>\n",
              "    <tr>\n",
              "      <th>0</th>\n",
              "      <td>0</td>\n",
              "      <td>70.295044</td>\n",
              "    </tr>\n",
              "    <tr>\n",
              "      <th>1</th>\n",
              "      <td>1</td>\n",
              "      <td>77.985837</td>\n",
              "    </tr>\n",
              "    <tr>\n",
              "      <th>2</th>\n",
              "      <td>2</td>\n",
              "      <td>72.330161</td>\n",
              "    </tr>\n",
              "    <tr>\n",
              "      <th>3</th>\n",
              "      <td>3</td>\n",
              "      <td>75.494597</td>\n",
              "    </tr>\n",
              "    <tr>\n",
              "      <th>4</th>\n",
              "      <td>4</td>\n",
              "      <td>71.105737</td>\n",
              "    </tr>\n",
              "    <tr>\n",
              "      <th>...</th>\n",
              "      <td>...</td>\n",
              "      <td>...</td>\n",
              "    </tr>\n",
              "    <tr>\n",
              "      <th>196</th>\n",
              "      <td>196</td>\n",
              "      <td>51.610951</td>\n",
              "    </tr>\n",
              "    <tr>\n",
              "      <th>197</th>\n",
              "      <td>197</td>\n",
              "      <td>54.884126</td>\n",
              "    </tr>\n",
              "    <tr>\n",
              "      <th>198</th>\n",
              "      <td>198</td>\n",
              "      <td>61.578141</td>\n",
              "    </tr>\n",
              "    <tr>\n",
              "      <th>199</th>\n",
              "      <td>199</td>\n",
              "      <td>61.151765</td>\n",
              "    </tr>\n",
              "    <tr>\n",
              "      <th>200</th>\n",
              "      <td>200</td>\n",
              "      <td>57.852893</td>\n",
              "    </tr>\n",
              "  </tbody>\n",
              "</table>\n",
              "<p>201 rows × 2 columns</p>\n",
              "</div>\n",
              "      <button class=\"colab-df-convert\" onclick=\"convertToInteractive('df-460b055c-7fa5-4676-9751-7e9f18fa08d7')\"\n",
              "              title=\"Convert this dataframe to an interactive table.\"\n",
              "              style=\"display:none;\">\n",
              "        \n",
              "  <svg xmlns=\"http://www.w3.org/2000/svg\" height=\"24px\"viewBox=\"0 0 24 24\"\n",
              "       width=\"24px\">\n",
              "    <path d=\"M0 0h24v24H0V0z\" fill=\"none\"/>\n",
              "    <path d=\"M18.56 5.44l.94 2.06.94-2.06 2.06-.94-2.06-.94-.94-2.06-.94 2.06-2.06.94zm-11 1L8.5 8.5l.94-2.06 2.06-.94-2.06-.94L8.5 2.5l-.94 2.06-2.06.94zm10 10l.94 2.06.94-2.06 2.06-.94-2.06-.94-.94-2.06-.94 2.06-2.06.94z\"/><path d=\"M17.41 7.96l-1.37-1.37c-.4-.4-.92-.59-1.43-.59-.52 0-1.04.2-1.43.59L10.3 9.45l-7.72 7.72c-.78.78-.78 2.05 0 2.83L4 21.41c.39.39.9.59 1.41.59.51 0 1.02-.2 1.41-.59l7.78-7.78 2.81-2.81c.8-.78.8-2.07 0-2.86zM5.41 20L4 18.59l7.72-7.72 1.47 1.35L5.41 20z\"/>\n",
              "  </svg>\n",
              "      </button>\n",
              "      \n",
              "  <style>\n",
              "    .colab-df-container {\n",
              "      display:flex;\n",
              "      flex-wrap:wrap;\n",
              "      gap: 12px;\n",
              "    }\n",
              "\n",
              "    .colab-df-convert {\n",
              "      background-color: #E8F0FE;\n",
              "      border: none;\n",
              "      border-radius: 50%;\n",
              "      cursor: pointer;\n",
              "      display: none;\n",
              "      fill: #1967D2;\n",
              "      height: 32px;\n",
              "      padding: 0 0 0 0;\n",
              "      width: 32px;\n",
              "    }\n",
              "\n",
              "    .colab-df-convert:hover {\n",
              "      background-color: #E2EBFA;\n",
              "      box-shadow: 0px 1px 2px rgba(60, 64, 67, 0.3), 0px 1px 3px 1px rgba(60, 64, 67, 0.15);\n",
              "      fill: #174EA6;\n",
              "    }\n",
              "\n",
              "    [theme=dark] .colab-df-convert {\n",
              "      background-color: #3B4455;\n",
              "      fill: #D2E3FC;\n",
              "    }\n",
              "\n",
              "    [theme=dark] .colab-df-convert:hover {\n",
              "      background-color: #434B5C;\n",
              "      box-shadow: 0px 1px 3px 1px rgba(0, 0, 0, 0.15);\n",
              "      filter: drop-shadow(0px 1px 2px rgba(0, 0, 0, 0.3));\n",
              "      fill: #FFFFFF;\n",
              "    }\n",
              "  </style>\n",
              "\n",
              "      <script>\n",
              "        const buttonEl =\n",
              "          document.querySelector('#df-460b055c-7fa5-4676-9751-7e9f18fa08d7 button.colab-df-convert');\n",
              "        buttonEl.style.display =\n",
              "          google.colab.kernel.accessAllowed ? 'block' : 'none';\n",
              "\n",
              "        async function convertToInteractive(key) {\n",
              "          const element = document.querySelector('#df-460b055c-7fa5-4676-9751-7e9f18fa08d7');\n",
              "          const dataTable =\n",
              "            await google.colab.kernel.invokeFunction('convertToInteractive',\n",
              "                                                     [key], {});\n",
              "          if (!dataTable) return;\n",
              "\n",
              "          const docLinkHtml = 'Like what you see? Visit the ' +\n",
              "            '<a target=\"_blank\" href=https://colab.research.google.com/notebooks/data_table.ipynb>data table notebook</a>'\n",
              "            + ' to learn more about interactive tables.';\n",
              "          element.innerHTML = '';\n",
              "          dataTable['output_type'] = 'display_data';\n",
              "          await google.colab.output.renderOutput(dataTable, element);\n",
              "          const docLink = document.createElement('div');\n",
              "          docLink.innerHTML = docLinkHtml;\n",
              "          element.appendChild(docLink);\n",
              "        }\n",
              "      </script>\n",
              "    </div>\n",
              "  </div>\n",
              "  "
            ]
          },
          "metadata": {},
          "execution_count": 59
        }
      ]
    },
    {
      "cell_type": "markdown",
      "source": [
        "# Conclusion \n",
        "\n",
        "After analysing the residuals behavior with the predicted results we are able to say that the predictions are not going to be optimal as the residuals are not following the predicted values line given us differance of up to ±25 in the scores predicted. \n",
        "\n",
        "\n",
        "Using the created model the number one ranked university has a score of **77.985837** (real of 100) and the worst a score of **57.852893** (real of 44.1)"
      ],
      "metadata": {
        "id": "cqMR2OxmMnzd"
      }
    }
  ]
}